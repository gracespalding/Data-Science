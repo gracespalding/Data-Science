{
  "nbformat": 4,
  "nbformat_minor": 0,
  "metadata": {
    "colab": {
      "name": "Spalding Lab #1.ipynb",
      "provenance": [],
      "authorship_tag": "ABX9TyNGdlpqxMz801KNx+IaNGdD",
      "include_colab_link": true
    },
    "kernelspec": {
      "name": "python3",
      "display_name": "Python 3"
    },
    "language_info": {
      "name": "python"
    }
  },
  "cells": [
    {
      "cell_type": "markdown",
      "metadata": {
        "id": "view-in-github",
        "colab_type": "text"
      },
      "source": [
        "<a href=\"https://colab.research.google.com/github/gracespalding/Data-Science/blob/main/Spalding_Lab_1.ipynb\" target=\"_parent\"><img src=\"https://colab.research.google.com/assets/colab-badge.svg\" alt=\"Open In Colab\"/></a>"
      ]
    },
    {
      "cell_type": "markdown",
      "source": [
        "#Spalding Lab 1 Notebook"
      ],
      "metadata": {
        "id": "XqoKWXKX3GyQ"
      }
    },
    {
      "cell_type": "markdown",
      "source": [
        "<img src = \"data:image/jpeg;base64,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\">"
      ],
      "metadata": {
        "id": "5ivLXy1pZCBc"
      }
    },
    {
      "cell_type": "markdown",
      "source": [
        "<img src = \"https://upload.wikimedia.org/wikipedia/commons/thumb/e/e3/Oranges_-_whole-halved-segment.jpg/1200px-Oranges_-_whole-halved-segment.jpg\">"
      ],
      "metadata": {
        "id": "9NgRPJPMaKYP"
      }
    },
    {
      "cell_type": "markdown",
      "source": [
        "$a^b$"
      ],
      "metadata": {
        "id": "aoTgq-DebgPw"
      }
    },
    {
      "cell_type": "markdown",
      "source": [
        "$\\frac{a}{b}$"
      ],
      "metadata": {
        "id": "hw--EzIqbnIQ"
      }
    },
    {
      "cell_type": "markdown",
      "source": [
        "$a^{333}$"
      ],
      "metadata": {
        "id": "gn6CDZPJcTxF"
      }
    },
    {
      "cell_type": "markdown",
      "source": [
        "$a_b$"
      ],
      "metadata": {
        "id": "eHvm1dZtdE0M"
      }
    },
    {
      "cell_type": "markdown",
      "source": [
        "$f(x) = \\frac{1}{\\sigma\\sqrt{2\\pi}}e^{-\\frac{1}{2}(\\frac{x-\\mu}{\\sigma})^2}$"
      ],
      "metadata": {
        "id": "Ub1hMk46cfta"
      }
    },
    {
      "cell_type": "code",
      "source": [
        "2*8 # Multiplication"
      ],
      "metadata": {
        "colab": {
          "base_uri": "https://localhost:8080/"
        },
        "id": "o399iVj0xEd7",
        "outputId": "8a93bb78-1511-4a42-bcd5-6483af7a3bcf"
      },
      "execution_count": null,
      "outputs": [
        {
          "output_type": "execute_result",
          "data": {
            "text/plain": [
              "16"
            ]
          },
          "metadata": {},
          "execution_count": 5
        }
      ]
    },
    {
      "cell_type": "code",
      "source": [
        "8/4 # Division"
      ],
      "metadata": {
        "colab": {
          "base_uri": "https://localhost:8080/"
        },
        "id": "gxHUzSfxx-qj",
        "outputId": "882dd396-9cbd-4b50-8e22-18a84c1b1451"
      },
      "execution_count": null,
      "outputs": [
        {
          "output_type": "execute_result",
          "data": {
            "text/plain": [
              "2.0"
            ]
          },
          "metadata": {},
          "execution_count": 7
        }
      ]
    },
    {
      "cell_type": "code",
      "source": [
        "13%12 # Remainder"
      ],
      "metadata": {
        "colab": {
          "base_uri": "https://localhost:8080/"
        },
        "id": "2ToSuGlTyGHL",
        "outputId": "69ce1268-5eb8-4360-bf4e-5e3c7274ca65"
      },
      "execution_count": null,
      "outputs": [
        {
          "output_type": "execute_result",
          "data": {
            "text/plain": [
              "1"
            ]
          },
          "metadata": {},
          "execution_count": 8
        }
      ]
    },
    {
      "cell_type": "markdown",
      "source": [
        "#Variables\n",
        "\n",
        "\n",
        "\n",
        "\n",
        "\n",
        "\n"
      ],
      "metadata": {
        "id": "tc7oAMiByZEU"
      }
    },
    {
      "cell_type": "code",
      "source": [
        "apple = 5 # This is the code to show that apples is equal to 5."
      ],
      "metadata": {
        "id": "Ozs_-o22yo1k"
      },
      "execution_count": null,
      "outputs": []
    },
    {
      "cell_type": "code",
      "source": [
        "orange = 8 # This shows that oranges is equal to 8."
      ],
      "metadata": {
        "id": "urR4ulTFy8L0"
      },
      "execution_count": null,
      "outputs": []
    },
    {
      "cell_type": "code",
      "source": [
        "cost_per_apple = 0.25 # This represents the cost per apple fso we can calculate a total."
      ],
      "metadata": {
        "id": "-06EpevRzucl"
      },
      "execution_count": null,
      "outputs": []
    },
    {
      "cell_type": "code",
      "source": [
        "shirt_cost = 25 "
      ],
      "metadata": {
        "id": "Ixgge1W-0buk"
      },
      "execution_count": null,
      "outputs": []
    },
    {
      "cell_type": "code",
      "source": [
        "pants_cost = 45"
      ],
      "metadata": {
        "id": "zcqWFpA20heG"
      },
      "execution_count": null,
      "outputs": []
    },
    {
      "cell_type": "code",
      "source": [
        "shoes_cost = 90"
      ],
      "metadata": {
        "id": "wS1L9ebX0mMe"
      },
      "execution_count": null,
      "outputs": []
    },
    {
      "cell_type": "code",
      "source": [
        "shirts_sold = 12"
      ],
      "metadata": {
        "id": "Oo42Zn3n0qNk"
      },
      "execution_count": null,
      "outputs": []
    },
    {
      "cell_type": "code",
      "source": [
        "pants_sold = 15"
      ],
      "metadata": {
        "id": "v29shYX-0xPU"
      },
      "execution_count": null,
      "outputs": []
    },
    {
      "cell_type": "code",
      "source": [
        "shoes_sold = 7 "
      ],
      "metadata": {
        "id": "i5k4l28r04uE"
      },
      "execution_count": null,
      "outputs": []
    },
    {
      "cell_type": "code",
      "source": [
        "total_shirt_sales = ( shirt_cost * shirts_sold ) # This is to calculate the total sales in T-shirts"
      ],
      "metadata": {
        "id": "nDearDZw14bW"
      },
      "execution_count": null,
      "outputs": []
    },
    {
      "cell_type": "code",
      "source": [
        "total_pants_sales = ( pants_cost * pants_sold ) # This is to calculate the total sales of pants"
      ],
      "metadata": {
        "id": "CqyJ9q6T2FMm"
      },
      "execution_count": null,
      "outputs": []
    },
    {
      "cell_type": "code",
      "source": [
        "total_shoes_sales = ( shoes_cost * shoes_sold ) # This is to calculate the total number of shoes"
      ],
      "metadata": {
        "id": "oqNQWU1z2WTn"
      },
      "execution_count": null,
      "outputs": []
    },
    {
      "cell_type": "code",
      "source": [
        "total_shirt_sales,total_pants_sales,total_shoes_sales # This is combining all of the sales together "
      ],
      "metadata": {
        "id": "JhZw5KDJ2gkX"
      },
      "execution_count": null,
      "outputs": []
    },
    {
      "cell_type": "markdown",
      "source": [
        "#Vectors"
      ],
      "metadata": {
        "id": "KEs0pzCq2qfw"
      }
    },
    {
      "cell_type": "code",
      "source": [
        "import numpy as np # Importing a code that we need, making an abbreviation so we don't have to type it out fully"
      ],
      "metadata": {
        "id": "ShVSl8_f2r5-"
      },
      "execution_count": null,
      "outputs": []
    },
    {
      "cell_type": "code",
      "source": [
        "import matplotlib.pyplot as plt # Here is an abbrveiation for a code so we dont have to type it out all the way"
      ],
      "metadata": {
        "id": "ksK6sVun3L14"
      },
      "execution_count": null,
      "outputs": []
    },
    {
      "cell_type": "code",
      "source": [
        "np.arange(10) # Here the comupter is arranging 10 sets of numbers (including 0)"
      ],
      "metadata": {
        "colab": {
          "base_uri": "https://localhost:8080/"
        },
        "id": "MSWa7jG_3bpX",
        "outputId": "339811d2-f71a-4086-d1e5-b0ba3f2e2354"
      },
      "execution_count": null,
      "outputs": [
        {
          "output_type": "execute_result",
          "data": {
            "text/plain": [
              "array([0, 1, 2, 3, 4, 5, 6, 7, 8, 9])"
            ]
          },
          "metadata": {},
          "execution_count": 37
        }
      ]
    },
    {
      "cell_type": "code",
      "source": [
        "x = np.arange(10)"
      ],
      "metadata": {
        "id": "UJ3UlQ-54BCo"
      },
      "execution_count": null,
      "outputs": []
    },
    {
      "cell_type": "code",
      "source": [
        "x # This shows that the code above worked and x = the arrangement of numbers."
      ],
      "metadata": {
        "colab": {
          "base_uri": "https://localhost:8080/"
        },
        "id": "MhuFnqeo4fUo",
        "outputId": "95393597-4864-4d63-c8b6-eba8ff0de633"
      },
      "execution_count": null,
      "outputs": [
        {
          "output_type": "execute_result",
          "data": {
            "text/plain": [
              "array([0, 1, 2, 3, 4, 5, 6, 7, 8, 9])"
            ]
          },
          "metadata": {},
          "execution_count": 39
        }
      ]
    },
    {
      "cell_type": "code",
      "source": [
        "x + 1 # This is taking x and adding one to it, so the arrangement changes."
      ],
      "metadata": {
        "colab": {
          "base_uri": "https://localhost:8080/"
        },
        "id": "afV5VNdS4lPo",
        "outputId": "58149b47-ccae-4fbf-adf1-32b791a1d7bb"
      },
      "execution_count": null,
      "outputs": [
        {
          "output_type": "execute_result",
          "data": {
            "text/plain": [
              "array([ 1,  2,  3,  4,  5,  6,  7,  8,  9, 10])"
            ]
          },
          "metadata": {},
          "execution_count": 41
        }
      ]
    },
    {
      "cell_type": "code",
      "source": [
        "x * 2 # Here we are multiplying x by two so hthe arrangemnt numbers change."
      ],
      "metadata": {
        "colab": {
          "base_uri": "https://localhost:8080/"
        },
        "id": "NzAo-Q4D4nLI",
        "outputId": "bf7c4cb2-cf97-48f5-e90a-b0eb562b43a3"
      },
      "execution_count": null,
      "outputs": [
        {
          "output_type": "execute_result",
          "data": {
            "text/plain": [
              "array([ 0,  2,  4,  6,  8, 10, 12, 14, 16, 18])"
            ]
          },
          "metadata": {},
          "execution_count": 42
        }
      ]
    },
    {
      "cell_type": "code",
      "source": [
        "x**2 # Here we are sqaring x."
      ],
      "metadata": {
        "colab": {
          "base_uri": "https://localhost:8080/"
        },
        "id": "7E1pDJHK4wZ4",
        "outputId": "a057d4a7-e2f0-4e9f-ec09-3505bb715751"
      },
      "execution_count": null,
      "outputs": [
        {
          "output_type": "execute_result",
          "data": {
            "text/plain": [
              "array([ 0,  1,  4,  9, 16, 25, 36, 49, 64, 81])"
            ]
          },
          "metadata": {},
          "execution_count": 43
        }
      ]
    },
    {
      "cell_type": "code",
      "source": [
        "y = 3 * x + 5 # This is our equation that represents the line on our graph."
      ],
      "metadata": {
        "id": "I6H3W6Np4z94"
      },
      "execution_count": null,
      "outputs": []
    },
    {
      "cell_type": "code",
      "source": [
        "x # This is finding x values for our graph."
      ],
      "metadata": {
        "colab": {
          "base_uri": "https://localhost:8080/"
        },
        "id": "bj299uzH448X",
        "outputId": "1516b6bb-3a4f-49a8-8930-69ecba443cd5"
      },
      "execution_count": null,
      "outputs": [
        {
          "output_type": "execute_result",
          "data": {
            "text/plain": [
              "array([0, 1, 2, 3, 4, 5, 6, 7, 8, 9])"
            ]
          },
          "metadata": {},
          "execution_count": 45
        }
      ]
    },
    {
      "cell_type": "code",
      "source": [
        "y # This is finding y values for our graph."
      ],
      "metadata": {
        "colab": {
          "base_uri": "https://localhost:8080/"
        },
        "id": "-whNP0KV4-FY",
        "outputId": "9ec26e95-d879-4581-cfa7-a54b74254c34"
      },
      "execution_count": null,
      "outputs": [
        {
          "output_type": "execute_result",
          "data": {
            "text/plain": [
              "array([ 5,  8, 11, 14, 17, 20, 23, 26, 29, 32])"
            ]
          },
          "metadata": {},
          "execution_count": 46
        }
      ]
    },
    {
      "cell_type": "code",
      "source": [
        "plt.plot(x,y) # This is tp use the code to plot our independnet and dependent variables (x and y). This gives us a straight line."
      ],
      "metadata": {
        "colab": {
          "base_uri": "https://localhost:8080/",
          "height": 282
        },
        "id": "dwnfAnKw4-fY",
        "outputId": "a1bd7ae8-c847-4e81-f934-3f98226562ff"
      },
      "execution_count": null,
      "outputs": [
        {
          "output_type": "execute_result",
          "data": {
            "text/plain": [
              "[<matplotlib.lines.Line2D at 0x7fbe107509d0>]"
            ]
          },
          "metadata": {},
          "execution_count": 68
        },
        {
          "output_type": "display_data",
          "data": {
            "text/plain": [
              "<Figure size 432x288 with 1 Axes>"
            ],
            "image/png": "[encoded data removed]"
          },
          "metadata": {
            "needs_background": "light"
          }
        }
      ]
    },
    {
      "cell_type": "code",
      "source": [
        "plt.plot(x,y,'.') # This is to find the plot points on the graph."
      ],
      "metadata": {
        "colab": {
          "base_uri": "https://localhost:8080/",
          "height": 282
        },
        "id": "KM6xlKSG5Lxo",
        "outputId": "cfe9173f-dec5-4e3c-c23b-4fd7afecf2b1"
      },
      "execution_count": null,
      "outputs": [
        {
          "output_type": "execute_result",
          "data": {
            "text/plain": [
              "[<matplotlib.lines.Line2D at 0x7fbe106c0150>]"
            ]
          },
          "metadata": {},
          "execution_count": 69
        },
        {
          "output_type": "display_data",
          "data": {
            "text/plain": [
              "<Figure size 432x288 with 1 Axes>"
            ],
            "image/png": "[encoded data removed]"
          },
          "metadata": {
            "needs_background": "light"
          }
        }
      ]
    },
    {
      "cell_type": "code",
      "source": [
        "plt.plot(x,y,'r.') # This code allows our plot to show red dots instead of blue like before."
      ],
      "metadata": {
        "colab": {
          "base_uri": "https://localhost:8080/",
          "height": 282
        },
        "id": "Fg8SuA1J6eVk",
        "outputId": "86cdfd88-17e3-4395-c672-b7d7678e54df"
      },
      "execution_count": null,
      "outputs": [
        {
          "output_type": "execute_result",
          "data": {
            "text/plain": [
              "[<matplotlib.lines.Line2D at 0x7fbe106a7850>]"
            ]
          },
          "metadata": {},
          "execution_count": 70
        },
        {
          "output_type": "display_data",
          "data": {
            "text/plain": [
              "<Figure size 432x288 with 1 Axes>"
            ],
            "image/png": "[encoded data removed]"
          },
          "metadata": {
            "needs_background": "light"
          }
        }
      ]
    },
    {
      "cell_type": "code",
      "source": [
        "plt.plot(x,y,'r--') # This causes our plot to show red dash signs along the line. "
      ],
      "metadata": {
        "colab": {
          "base_uri": "https://localhost:8080/",
          "height": 282
        },
        "id": "BTHy1yvl5gSp",
        "outputId": "26597ecd-e3fd-4bbb-8218-2634687066dc"
      },
      "execution_count": null,
      "outputs": [
        {
          "output_type": "execute_result",
          "data": {
            "text/plain": [
              "[<matplotlib.lines.Line2D at 0x7fbe10610e90>]"
            ]
          },
          "metadata": {},
          "execution_count": 71
        },
        {
          "output_type": "display_data",
          "data": {
            "text/plain": [
              "<Figure size 432x288 with 1 Axes>"
            ],
            "image/png": "[encoded data removed]"
          },
          "metadata": {
            "needs_background": "light"
          }
        }
      ]
    },
    {
      "cell_type": "code",
      "source": [
        "plt.plot(x,y,marker = 'o',linestyle = 'None',markerfacecolor='#A233FF') # Here we used a HTML hex color code to personalize the color of the dots on the plot. This color is #A233FF. There is no linestyle."
      ],
      "metadata": {
        "colab": {
          "base_uri": "https://localhost:8080/",
          "height": 282
        },
        "id": "Ln0S3CCX6Qcz",
        "outputId": "91d8d6f7-8a3d-4e53-9157-c12aa6dc3b94"
      },
      "execution_count": null,
      "outputs": [
        {
          "output_type": "execute_result",
          "data": {
            "text/plain": [
              "[<matplotlib.lines.Line2D at 0x7fbe10976850>]"
            ]
          },
          "metadata": {},
          "execution_count": 72
        },
        {
          "output_type": "display_data",
          "data": {
            "text/plain": [
              "<Figure size 432x288 with 1 Axes>"
            ],
            "image/png": "[encoded data removed]"
          },
          "metadata": {
            "needs_background": "light"
          }
        }
      ]
    },
    {
      "cell_type": "code",
      "source": [
        "x = np.linspace(0,10,100) # This shows the number range"
      ],
      "metadata": {
        "id": "EbuLUf8Q9lSt"
      },
      "execution_count": null,
      "outputs": []
    },
    {
      "cell_type": "code",
      "source": [
        "x"
      ],
      "metadata": {
        "colab": {
          "base_uri": "https://localhost:8080/"
        },
        "id": "zIWDpl3F9p1u",
        "outputId": "d08a723d-d3b8-4db4-d774-a7e015873dde"
      },
      "execution_count": null,
      "outputs": [
        {
          "output_type": "execute_result",
          "data": {
            "text/plain": [
              "array([ 0.        ,  0.1010101 ,  0.2020202 ,  0.3030303 ,  0.4040404 ,\n",
              "        0.50505051,  0.60606061,  0.70707071,  0.80808081,  0.90909091,\n",
              "        1.01010101,  1.11111111,  1.21212121,  1.31313131,  1.41414141,\n",
              "        1.51515152,  1.61616162,  1.71717172,  1.81818182,  1.91919192,\n",
              "        2.02020202,  2.12121212,  2.22222222,  2.32323232,  2.42424242,\n",
              "        2.52525253,  2.62626263,  2.72727273,  2.82828283,  2.92929293,\n",
              "        3.03030303,  3.13131313,  3.23232323,  3.33333333,  3.43434343,\n",
              "        3.53535354,  3.63636364,  3.73737374,  3.83838384,  3.93939394,\n",
              "        4.04040404,  4.14141414,  4.24242424,  4.34343434,  4.44444444,\n",
              "        4.54545455,  4.64646465,  4.74747475,  4.84848485,  4.94949495,\n",
              "        5.05050505,  5.15151515,  5.25252525,  5.35353535,  5.45454545,\n",
              "        5.55555556,  5.65656566,  5.75757576,  5.85858586,  5.95959596,\n",
              "        6.06060606,  6.16161616,  6.26262626,  6.36363636,  6.46464646,\n",
              "        6.56565657,  6.66666667,  6.76767677,  6.86868687,  6.96969697,\n",
              "        7.07070707,  7.17171717,  7.27272727,  7.37373737,  7.47474747,\n",
              "        7.57575758,  7.67676768,  7.77777778,  7.87878788,  7.97979798,\n",
              "        8.08080808,  8.18181818,  8.28282828,  8.38383838,  8.48484848,\n",
              "        8.58585859,  8.68686869,  8.78787879,  8.88888889,  8.98989899,\n",
              "        9.09090909,  9.19191919,  9.29292929,  9.39393939,  9.49494949,\n",
              "        9.5959596 ,  9.6969697 ,  9.7979798 ,  9.8989899 , 10.        ])"
            ]
          },
          "metadata": {},
          "execution_count": 73
        }
      ]
    },
    {
      "cell_type": "code",
      "source": [
        "y = x**2"
      ],
      "metadata": {
        "id": "infkUfpY9q_9"
      },
      "execution_count": null,
      "outputs": []
    },
    {
      "cell_type": "code",
      "source": [
        "plt.plot(x,y,marker = 'o',linestyle = 'None',markerfacecolor='#A233FF',label = \"Graph of x squared\") # Here we are creating the plot again with the new linspace code.\n",
        "plt.title(\"My First Graph\"); # This is the title for my graph.\n",
        "plt.xlabel(\"X axis label goes here\");\n",
        "plt.ylabel(\"Y axis label goez here\");\n",
        "plt.legend ();"
      ],
      "metadata": {
        "colab": {
          "base_uri": "https://localhost:8080/",
          "height": 295
        },
        "id": "M0ZmTEXq98he",
        "outputId": "9fe1d1d4-fba8-480d-9ae0-610f3e1ec6e1"
      },
      "execution_count": null,
      "outputs": [
        {
          "output_type": "display_data",
          "data": {
            "text/plain": [
              "<Figure size 432x288 with 1 Axes>"
            ],
            "image/png": "[encoded data removed]"
          },
          "metadata": {
            "needs_background": "light"
          }
        }
      ]
    },
    {
      "cell_type": "code",
      "source": [
        "x = np.linspace(0,2,100) # Here we created another graph with new labels and a legend.\n",
        "plt.plot(x,x, label=\"Linear\");\n",
        "plt.plot(x,x**2, label=\"Squared\");\n",
        "plt.plot(x,x**3, label=\"Cubed\");\n",
        "plt.legend();"
      ],
      "metadata": {
        "colab": {
          "base_uri": "https://localhost:8080/",
          "height": 265
        },
        "id": "QNARRiJrA0EA",
        "outputId": "e238f9da-8a95-4985-a120-20929d59c71c"
      },
      "execution_count": null,
      "outputs": [
        {
          "output_type": "display_data",
          "data": {
            "text/plain": [
              "<Figure size 432x288 with 1 Axes>"
            ],
            "image/png": "[encoded data removed]"
          },
          "metadata": {
            "needs_background": "light"
          }
        }
      ]
    },
    {
      "cell_type": "code",
      "source": [
        "x = np.linspace(0,2,100) # Here we changed the lines color and shape.\n",
        "plt.plot(x,x,'r--', label=\"Linear\");\n",
        "plt.plot(x,x**2, 'bs', label=\"Squared\");\n",
        "plt.plot(x,x**3, 'g^', label=\"Cubed\");\n",
        "plt.legend();"
      ],
      "metadata": {
        "colab": {
          "base_uri": "https://localhost:8080/",
          "height": 265
        },
        "id": "Se9JpYcWDKST",
        "outputId": "c713a4fe-4c5b-4d40-bdb2-818238ae4d56"
      },
      "execution_count": null,
      "outputs": [
        {
          "output_type": "display_data",
          "data": {
            "text/plain": [
              "<Figure size 432x288 with 1 Axes>"
            ],
            "image/png": "[encoded data removed]"
          },
          "metadata": {
            "needs_background": "light"
          }
        }
      ]
    },
    {
      "cell_type": "code",
      "source": [
        "names = ['cat','dog','bird'] # Here we are coding names and what they mean"
      ],
      "metadata": {
        "id": "9bwQymNeElw0"
      },
      "execution_count": null,
      "outputs": []
    },
    {
      "cell_type": "code",
      "source": [
        "names"
      ],
      "metadata": {
        "colab": {
          "base_uri": "https://localhost:8080/"
        },
        "id": "MlByIlI5EtYE",
        "outputId": "78bc0b17-4a49-4cdf-a128-b58b14f7ce33"
      },
      "execution_count": null,
      "outputs": [
        {
          "output_type": "execute_result",
          "data": {
            "text/plain": [
              "['cat', 'dog', 'bird']"
            ]
          },
          "metadata": {},
          "execution_count": 91
        }
      ]
    },
    {
      "cell_type": "code",
      "source": [
        "names [0] # This shows that 0 = cat"
      ],
      "metadata": {
        "colab": {
          "base_uri": "https://localhost:8080/",
          "height": 35
        },
        "id": "4WMqwEeMEvFk",
        "outputId": "2aa0947c-abee-4069-ea22-535f96c7794a"
      },
      "execution_count": null,
      "outputs": [
        {
          "output_type": "execute_result",
          "data": {
            "text/plain": [
              "'cat'"
            ],
            "application/vnd.google.colaboratory.intrinsic+json": {
              "type": "string"
            }
          },
          "metadata": {},
          "execution_count": 93
        }
      ]
    },
    {
      "cell_type": "code",
      "source": [
        "names [1] # This shows that 1 = dog"
      ],
      "metadata": {
        "colab": {
          "base_uri": "https://localhost:8080/",
          "height": 35
        },
        "id": "vaILJRFjExYj",
        "outputId": "fc878fe7-4959-4e73-b83c-242419db283c"
      },
      "execution_count": null,
      "outputs": [
        {
          "output_type": "execute_result",
          "data": {
            "text/plain": [
              "'dog'"
            ],
            "application/vnd.google.colaboratory.intrinsic+json": {
              "type": "string"
            }
          },
          "metadata": {},
          "execution_count": 94
        }
      ]
    },
    {
      "cell_type": "code",
      "source": [
        "names [2] # This shoes that 2 = bird"
      ],
      "metadata": {
        "colab": {
          "base_uri": "https://localhost:8080/",
          "height": 35
        },
        "id": "1sLQuVlQEz-j",
        "outputId": "ca7987c9-fedd-4765-d862-6205de1aa796"
      },
      "execution_count": null,
      "outputs": [
        {
          "output_type": "execute_result",
          "data": {
            "text/plain": [
              "'bird'"
            ],
            "application/vnd.google.colaboratory.intrinsic+json": {
              "type": "string"
            }
          },
          "metadata": {},
          "execution_count": 97
        }
      ]
    },
    {
      "cell_type": "code",
      "source": [
        "values = [15,18,6] # This allows us to connect these numbers with the word \"values\""
      ],
      "metadata": {
        "id": "Wg1WWPg-E9TD"
      },
      "execution_count": null,
      "outputs": []
    },
    {
      "cell_type": "code",
      "source": [
        "values # We plug in \"values\" and see the numbers from above."
      ],
      "metadata": {
        "colab": {
          "base_uri": "https://localhost:8080/"
        },
        "id": "VogXhAI8FAuE",
        "outputId": "9b138a4d-fa84-49c4-c2f2-520e20bcdc66"
      },
      "execution_count": null,
      "outputs": [
        {
          "output_type": "execute_result",
          "data": {
            "text/plain": [
              "[15, 18, 6]"
            ]
          },
          "metadata": {},
          "execution_count": 99
        }
      ]
    },
    {
      "cell_type": "code",
      "source": [
        "plt.figure(1,figsize=(5,5)); # Here we are creating bars, scatter plots, and line plots with the information we entered above.\n",
        "plt.subplot(1,3,1);\n",
        "plt.bar(names,values);\n",
        "\n",
        "plt.subplot(1,3,2);\n",
        "plt.scatter(names,values);\n",
        "\n",
        "plt.subplot(1,3,3);\n",
        "plt.plot(names,values);"
      ],
      "metadata": {
        "colab": {
          "base_uri": "https://localhost:8080/",
          "height": 320
        },
        "id": "7FoiQWlvFBC0",
        "outputId": "40808fc6-8a19-472a-9fb6-b5f48ca057ea"
      },
      "execution_count": null,
      "outputs": [
        {
          "output_type": "display_data",
          "data": {
            "text/plain": [
              "<Figure size 360x360 with 3 Axes>"
            ],
            "image/png": "[encoded data removed]"
          },
          "metadata": {
            "needs_background": "light"
          }
        }
      ]
    },
    {
      "cell_type": "code",
      "source": [
        "plt.figure(1,figsize=(5,5)); # Here we entered our plots again with knew information.\n",
        "plt.subplot(2,2,1);\n",
        "plt.bar(names,values);\n",
        "\n",
        "plt.subplot(2,2,2);\n",
        "plt.scatter(names,values);\n",
        "\n",
        "plt.subplot(2,2,3);\n",
        "plt.plot(names,values);\n",
        "\n",
        "plt.subplot(2,2,4);\n",
        "plt.plot(names,values);"
      ],
      "metadata": {
        "colab": {
          "base_uri": "https://localhost:8080/",
          "height": 320
        },
        "id": "ihdOkecxGtv1",
        "outputId": "91174965-bccd-4662-9f12-3f529469659a"
      },
      "execution_count": null,
      "outputs": [
        {
          "output_type": "display_data",
          "data": {
            "text/plain": [
              "<Figure size 360x360 with 4 Axes>"
            ],
            "image/png": "[encoded data removed]"
          },
          "metadata": {
            "needs_background": "light"
          }
        }
      ]
    }
  ]
}